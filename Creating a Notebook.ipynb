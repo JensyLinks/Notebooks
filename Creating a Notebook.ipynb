{
    "cells": [
        {
            "cell_type": "markdown",
            "metadata": {
                "collapsed": true
            },
            "source": "## Description\n\nThis notebook analyzes and visualizes housing data."
        },
        {
            "cell_type": "code",
            "execution_count": 1,
            "metadata": {},
            "outputs": [],
            "source": "\nimport os, types\nimport pandas as pd\nfrom botocore.client import Config\nimport ibm_boto3\n\ndef __iter__(self): return 0"
        },
        {
            "cell_type": "code",
            "execution_count": 2,
            "metadata": {},
            "outputs": [],
            "source": "# The code was removed by Watson Studio for sharing."
        },
        {
            "cell_type": "code",
            "execution_count": 4,
            "metadata": {},
            "outputs": [
                {
                    "data": {
                        "text/html": "<div>\n<style scoped>\n    .dataframe tbody tr th:only-of-type {\n        vertical-align: middle;\n    }\n\n    .dataframe tbody tr th {\n        vertical-align: top;\n    }\n\n    .dataframe thead th {\n        text-align: right;\n    }\n</style>\n<table border=\"1\" class=\"dataframe\">\n  <thead>\n    <tr style=\"text-align: right;\">\n      <th></th>\n      <th>price</th>\n      <th>size</th>\n      <th>lsize</th>\n      <th>age</th>\n      <th>bathp</th>\n      <th>month</th>\n      <th>poolag</th>\n      <th>poolig</th>\n      <th>firep</th>\n      <th>sager</th>\n      <th>dagar</th>\n      <th>car_p</th>\n      <th>busy_rd</th>\n      <th>ele</th>\n    </tr>\n  </thead>\n  <tbody>\n    <tr>\n      <th>0</th>\n      <td>95000</td>\n      <td>1360</td>\n      <td>1855</td>\n      <td>80</td>\n      <td>8</td>\n      <td>57</td>\n      <td>0</td>\n      <td>0</td>\n      <td>0</td>\n      <td>0</td>\n      <td>0</td>\n      <td>0</td>\n      <td>0</td>\n      <td>0</td>\n    </tr>\n    <tr>\n      <th>1</th>\n      <td>122500</td>\n      <td>1290</td>\n      <td>5790</td>\n      <td>18</td>\n      <td>7</td>\n      <td>55</td>\n      <td>0</td>\n      <td>0</td>\n      <td>1</td>\n      <td>1</td>\n      <td>0</td>\n      <td>0</td>\n      <td>0</td>\n      <td>0</td>\n    </tr>\n    <tr>\n      <th>2</th>\n      <td>75000</td>\n      <td>1056</td>\n      <td>1962</td>\n      <td>80</td>\n      <td>4</td>\n      <td>67</td>\n      <td>0</td>\n      <td>0</td>\n      <td>0</td>\n      <td>0</td>\n      <td>0</td>\n      <td>0</td>\n      <td>0</td>\n      <td>0</td>\n    </tr>\n    <tr>\n      <th>3</th>\n      <td>117000</td>\n      <td>1510</td>\n      <td>4500</td>\n      <td>80</td>\n      <td>10</td>\n      <td>49</td>\n      <td>0</td>\n      <td>0</td>\n      <td>0</td>\n      <td>0</td>\n      <td>0</td>\n      <td>0</td>\n      <td>0</td>\n      <td>0</td>\n    </tr>\n    <tr>\n      <th>4</th>\n      <td>143000</td>\n      <td>1544</td>\n      <td>4750</td>\n      <td>60</td>\n      <td>4</td>\n      <td>70</td>\n      <td>0</td>\n      <td>0</td>\n      <td>0</td>\n      <td>0</td>\n      <td>0</td>\n      <td>0</td>\n      <td>0</td>\n      <td>0</td>\n    </tr>\n    <tr>\n      <th>5</th>\n      <td>140000</td>\n      <td>1250</td>\n      <td>3700</td>\n      <td>80</td>\n      <td>4</td>\n      <td>71</td>\n      <td>0</td>\n      <td>0</td>\n      <td>1</td>\n      <td>0</td>\n      <td>0</td>\n      <td>0</td>\n      <td>0</td>\n      <td>0</td>\n    </tr>\n    <tr>\n      <th>6</th>\n      <td>113000</td>\n      <td>877</td>\n      <td>4400</td>\n      <td>80</td>\n      <td>6</td>\n      <td>58</td>\n      <td>0</td>\n      <td>0</td>\n      <td>0</td>\n      <td>0</td>\n      <td>0</td>\n      <td>0</td>\n      <td>0</td>\n      <td>0</td>\n    </tr>\n    <tr>\n      <th>7</th>\n      <td>125000</td>\n      <td>1500</td>\n      <td>5016</td>\n      <td>80</td>\n      <td>6</td>\n      <td>67</td>\n      <td>0</td>\n      <td>0</td>\n      <td>1</td>\n      <td>0</td>\n      <td>0</td>\n      <td>0</td>\n      <td>0</td>\n      <td>0</td>\n    </tr>\n    <tr>\n      <th>8</th>\n      <td>85000</td>\n      <td>1450</td>\n      <td>4506</td>\n      <td>80</td>\n      <td>4</td>\n      <td>49</td>\n      <td>0</td>\n      <td>0</td>\n      <td>0</td>\n      <td>0</td>\n      <td>0</td>\n      <td>0</td>\n      <td>0</td>\n      <td>0</td>\n    </tr>\n    <tr>\n      <th>9</th>\n      <td>119255</td>\n      <td>1775</td>\n      <td>4330</td>\n      <td>50</td>\n      <td>7</td>\n      <td>53</td>\n      <td>0</td>\n      <td>0</td>\n      <td>0</td>\n      <td>0</td>\n      <td>0</td>\n      <td>0</td>\n      <td>0</td>\n      <td>1</td>\n    </tr>\n  </tbody>\n</table>\n</div>",
                        "text/plain": "    price  size  lsize  age  bathp  month  poolag  poolig  firep  sager  \\\n0   95000  1360   1855   80      8     57       0       0      0      0   \n1  122500  1290   5790   18      7     55       0       0      1      1   \n2   75000  1056   1962   80      4     67       0       0      0      0   \n3  117000  1510   4500   80     10     49       0       0      0      0   \n4  143000  1544   4750   60      4     70       0       0      0      0   \n5  140000  1250   3700   80      4     71       0       0      1      0   \n6  113000   877   4400   80      6     58       0       0      0      0   \n7  125000  1500   5016   80      6     67       0       0      1      0   \n8   85000  1450   4506   80      4     49       0       0      0      0   \n9  119255  1775   4330   50      7     53       0       0      0      0   \n\n   dagar  car_p  busy_rd  ele  \n0      0      0        0    0  \n1      0      0        0    0  \n2      0      0        0    0  \n3      0      0        0    0  \n4      0      0        0    0  \n5      0      0        0    0  \n6      0      0        0    0  \n7      0      0        0    0  \n8      0      0        0    0  \n9      0      0        0    1  "
                    },
                    "execution_count": 4,
                    "metadata": {},
                    "output_type": "execute_result"
                }
            ],
            "source": "body = client_464daa24304848f4948e3a7f91b9df80.get_object(Bucket='firstwatsonstudioproject-donotdelete-pr-sakpu6upwyjohe',Key='lab4dataset.csv')['Body']\n# add missing __iter__ method, so pandas accepts body as file-like object\nif not hasattr(body, \"__iter__\"): body.__iter__ = types.MethodType( __iter__, body )\n\ndf_data_1 = pd.read_csv(body)\ndf_data_1.head(10)"
        },
        {
            "cell_type": "code",
            "execution_count": null,
            "metadata": {},
            "outputs": [],
            "source": ""
        }
    ],
    "metadata": {
        "kernelspec": {
            "display_name": "Python 3.8",
            "language": "python",
            "name": "python3"
        },
        "language_info": {
            "codemirror_mode": {
                "name": "ipython",
                "version": 3
            },
            "file_extension": ".py",
            "mimetype": "text/x-python",
            "name": "python",
            "nbconvert_exporter": "python",
            "pygments_lexer": "ipython3",
            "version": "3.8.12"
        }
    },
    "nbformat": 4,
    "nbformat_minor": 1
}